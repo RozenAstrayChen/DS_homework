{
 "cells": [
  {
   "cell_type": "code",
   "execution_count": 9,
   "metadata": {},
   "outputs": [],
   "source": [
    "import requests\n",
    "from bs4 import BeautifulSoup"
   ]
  },
  {
   "cell_type": "code",
   "execution_count": 10,
   "metadata": {},
   "outputs": [
    {
     "data": {
      "text/plain": [
       "'https://www.blockchain.com/eth/address/0x03f034fb47965123ea4148e3147e2cfdc5b1f7a5?view=standard'"
      ]
     },
     "execution_count": 10,
     "metadata": {},
     "output_type": "execute_result"
    }
   ],
   "source": [
    "address = ['0x03f034fb47965123ea4148e3147e2cfdc5b1f7a5',\n",
    "           '0x3B5744c7F340E0d2Dcf7A072A4c963B9a43c982B']\n",
    "url = 'https://www.blockchain.com/eth/address/'+ address[0] +'?view=standard'\n",
    "url"
   ]
  },
  {
   "cell_type": "code",
   "execution_count": 80,
   "metadata": {},
   "outputs": [],
   "source": [
    "resp = requests.get('https://www.blockchain.com/eth/address/0x4f49bdebbef29a4f1a3ea1d41867ece1850cef75')\n",
    "resp.encoding = 'utf-8'    \n",
    "resp.encoding = 'big5' \n"
   ]
  },
  {
   "cell_type": "code",
   "execution_count": 81,
   "metadata": {},
   "outputs": [],
   "source": [
    "soup = BeautifulSoup(resp.text, 'html.parser')"
   ]
  },
  {
   "cell_type": "code",
   "execution_count": 82,
   "metadata": {},
   "outputs": [
    {
     "data": {
      "text/plain": [
       "['0x4f49bdebbef29a4f1a3ea1d41867ece1850cef75']"
      ]
     },
     "execution_count": 82,
     "metadata": {},
     "output_type": "execute_result"
    }
   ],
   "source": [
    "hash_spans = soup.find_all(\"div\", class_=\"sc-16b9dsl-0 hiLnJO\")\n",
    "hashs = []\n",
    "for hash_span in hash_spans:\n",
    "    hashs.append(hash_span.find('span').text)\n",
    "\n",
    "hashs"
   ]
  },
  {
   "cell_type": "code",
   "execution_count": 83,
   "metadata": {},
   "outputs": [
    {
     "data": {
      "text/plain": [
       "['Hash',\n",
       " '0x4f49bdebbef29a4f1a3ea1d41867ece1850cef75',\n",
       " 'Nonce',\n",
       " '1',\n",
       " 'Number of Transactions',\n",
       " '2',\n",
       " 'Final Balance',\n",
       " '0.000075196 ETH',\n",
       " 'Total Sent',\n",
       " '0.00000000 ETH',\n",
       " 'Total Received',\n",
       " '0.00015000 ETH',\n",
       " 'Total Fees',\n",
       " '0.000074804 ETH']"
      ]
     },
     "execution_count": 83,
     "metadata": {},
     "output_type": "execute_result"
    }
   ],
   "source": [
    "nonces_spans = soup.find_all(\"div\", class_=\"sc-8sty72-0 bFeqhe\")\n",
    "nonces = []\n",
    "for nonces_span in nonces_spans:\n",
    "    nonces.append(nonces_span.find('span').text)\n",
    "nonces"
   ]
  },
  {
   "cell_type": "code",
   "execution_count": 62,
   "metadata": {},
   "outputs": [
    {
     "name": "stdout",
     "output_type": "stream",
     "text": [
      "-0.00015000 ETH 2018-04-20 10:49 0x4f49bdebbef29a4f1a3ea1d41867ece1850cef75\n"
     ]
    }
   ],
   "source": [
    "transaction_classes = soup.find_all(\"div\", class_=\"sc-1fp9csv-0 koYsLf\")\n",
    "\n",
    "transaction_classes.reverse()\n",
    "for transaction_class in transaction_classes:\n",
    "    last_transaction = transaction_class.find(\"span\", class_=\"sc-1ryi78w-0 cILyoi sc-16b9dsl-1 ZwupP u3ufsr-0 eQTRKC sc-85fclk-0 fhjukF\")\n",
    "    if last_transaction is not None:\n",
    "        amout = last_transaction.text\n",
    "        time = transaction_class.find(\"span\", class_=\"sc-1ryi78w-0 cILyoi sc-16b9dsl-1 ZwupP u3ufsr-0 eQTRKC\").text\n",
    "        transaction = transaction_class.find_all(\"a\", class_=\"sc-1r996ns-0 fLwyDF sc-1tbyx6t-1 kCGMTY iklhnl-0 eEewhk\")[-1].text\n",
    "        break\n",
    "print(amout, time, transaction)\n",
    "#last_time_span = transaction_classes[-1].find_all(\"div\", class_=\"sc-1rk8jst-0 eFowch\")\n",
    "#last_time = last_time_span[-1].find(\"span\", class_=\"sc-1ryi78w-0 cILyoi sc-16b9dsl-1 ZwupP u3ufsr-0 eQTRKC\")\n",
    "\n",
    "#last_transaction = transaction_classes[-1].find_all(\"a\", class_=\"sc-1r996ns-0 fLwyDF sc-1tbyx6t-1 kCGMTY iklhnl-0 eEewhk\")\n",
    "#last_transaction[-1].text\n"
   ]
  },
  {
   "cell_type": "code",
   "execution_count": 45,
   "metadata": {},
   "outputs": [
    {
     "name": "stdout",
     "output_type": "stream",
     "text": [
      "+0.80000000 ETH\n"
     ]
    }
   ],
   "source": [
    "transaction_classes = soup.find_all(\"div\", class_=\"sc-1fp9csv-0 koYsLf\")\n",
    "amount = transaction_classes[-1].find_all(\"span\", class_=\"sc-1ryi78w-0 cILyoi sc-16b9dsl-1 ZwupP u3ufsr-0 eQTRKC sc-85fclk-0 vXYMB\")\n",
    "\n",
    "print(amount[-1].text)\n"
   ]
  },
  {
   "cell_type": "code",
   "execution_count": 113,
   "metadata": {},
   "outputs": [],
   "source": [
    "def crawler_info(address):\n",
    "    url = 'https://www.blockchain.com/eth/address/'+ address +'?view=standard'\n",
    "    resp = requests.get(url); resp.encoding = 'utf-8'; resp.encoding = 'big5' \n",
    "    \n",
    "    soup = BeautifulSoup(resp.text, 'html.parser')\n",
    "    info_spans = soup.find_all(\"div\", class_=\"sc-8sty72-0 bFeqhe\")\n",
    "    \n",
    "    infoes = []\n",
    "    for info_span in info_spans:\n",
    "        infoes.append(info_span.find('span').text)\n",
    "    transaction_classes = soup.find_all(\"div\", class_=\"sc-1fp9csv-0 koYsLf\")\n",
    "\n",
    "    transaction_classes.reverse()\n",
    "    for transaction_class in transaction_classes:\n",
    "        last_transaction = transaction_class.find(\"span\", class_=\"sc-1ryi78w-0 cILyoi sc-16b9dsl-1 ZwupP u3ufsr-0 eQTRKC sc-85fclk-0 fhjukF\")\n",
    "        if last_transaction is not None:\n",
    "            amout = last_transaction.text\n",
    "            time = transaction_class.find(\"span\", class_=\"sc-1ryi78w-0 cILyoi sc-16b9dsl-1 ZwupP u3ufsr-0 eQTRKC\").text\n",
    "            transaction = transaction_class.find_all(\"a\", class_=\"sc-1r996ns-0 fLwyDF sc-1tbyx6t-1 kCGMTY iklhnl-0 eEewhk\")[-1].text\n",
    "            return infoes, time, transaction, amout\n",
    "    \n",
    "    return infoes, None, None, None\n",
    "\n",
    "def show(info, time, transaction, amount):\n",
    "    print('%s : %s' % (info[2], info[3]))\n",
    "    print('%s : %s' % (info[4], info[5]))\n",
    "    print('%s : %s' % (info[6], info[7]))\n",
    "    print('%s : %s' % (info[8], info[9]))\n",
    "    print('%s : %s' % (info[10], info[11]))\n",
    "    print('%s : %s' % (info[12], info[13]))\n",
    "    if time is not None:\n",
    "        print('%s : %s' % ('Date', time))\n",
    "        print('%s : %s' % ('To', transaction))\n",
    "        print('%s : %s' % ('Amount', amount))\n",
    "    print('------------------------------------')\n",
    "    \n",
    "\n",
    "def hw1(input_path='ex_input_hw1.txt'):\n",
    "    f = open(input_path, \"r\")\n",
    "    mylist = f.read().splitlines() \n",
    "    f.close()\n",
    "    for ids in mylist:\n",
    "        ids_list = []\n",
    "        for i in range(0, 4):\n",
    "            ids_list.append(ids)\n",
    "            infos, time, transaction, amount = crawler_info(ids)\n",
    "            show(infos, time, transaction, amount)\n",
    "            ids = transaction\n",
    "            if time is None:\n",
    "                break\n",
    "        for ids in ids_list:\n",
    "            print(ids)\n",
    "            print(' -> ')\n",
    "        print('-------------------------------------')\n",
    "        \n",
    "\n"
   ]
  },
  {
   "cell_type": "code",
   "execution_count": 114,
   "metadata": {},
   "outputs": [
    {
     "name": "stdout",
     "output_type": "stream",
     "text": [
      "https://www.blockchain.com/eth/address/0x03f034fb47965123ea4148e3147e2cfdc5b1f7a5?view=standard\n",
      "Nonce : 33\n",
      "Number of Transactions : 54\n",
      "Final Balance : 0.00179703235753823 ETH\n",
      "Total Sent : 21.62401556 ETH\n",
      "Total Received : 21.64536359235753823 ETH\n",
      "Total Fees : 0.01955100 ETH\n",
      "Date : 2018-04-20 10:49\n",
      "To : 0x4f49bdebbef29a4f1a3ea1d41867ece1850cef75\n",
      "Amount : -0.00015000 ETH\n",
      "------------------------------------\n",
      "https://www.blockchain.com/eth/address/0x4f49bdebbef29a4f1a3ea1d41867ece1850cef75?view=standard\n",
      "Nonce : 1\n",
      "Number of Transactions : 2\n",
      "Final Balance : 0.000075196 ETH\n",
      "Total Sent : 0.00000000 ETH\n",
      "Total Received : 0.00015000 ETH\n",
      "Total Fees : 0.000074804 ETH\n",
      "Date : 2018-04-20 10:54\n",
      "To : 0xdd007278b667f6bef52fd0a4c23604aa1f96039a\n",
      "Amount : -0.00000000 ETH\n",
      "------------------------------------\n",
      "https://www.blockchain.com/eth/address/0xdd007278b667f6bef52fd0a4c23604aa1f96039a?view=standard\n",
      "Nonce : 0\n",
      "Number of Transactions : 1,663\n",
      "Final Balance : 0.00000000 ETH\n",
      "Total Sent : 0.00000000 ETH\n",
      "Total Received : 0.00000000 ETH\n",
      "Total Fees : 0.00000000 ETH\n",
      "------------------------------------\n",
      "0x03f034fb47965123ea4148e3147e2cfdc5b1f7a5\n",
      " -> \n",
      "0x4f49bdebbef29a4f1a3ea1d41867ece1850cef75\n",
      " -> \n",
      "0xdd007278b667f6bef52fd0a4c23604aa1f96039a\n",
      " -> \n",
      "-------------------------------------\n",
      "https://www.blockchain.com/eth/address/0x3B5744c7F340E0d2Dcf7A072A4c963B9a43c982B?view=standard\n",
      "Nonce : 70\n",
      "Number of Transactions : 193\n",
      "Final Balance : 0.00034760 ETH\n",
      "Total Sent : 16.80580537286843859 ETH\n",
      "Total Received : 16.82485640986843859 ETH\n",
      "Total Fees : 0.018703437 ETH\n",
      "Date : 2018-05-10 15:41\n",
      "To : 0xa8bb6755d9c732ca4e35a5f22ae471c59b194a45\n",
      "Amount : -0.30000000 ETH\n",
      "------------------------------------\n",
      "https://www.blockchain.com/eth/address/0xa8bb6755d9c732ca4e35a5f22ae471c59b194a45?view=standard\n",
      "Nonce : 1,100\n",
      "Number of Transactions : 2,288\n",
      "Final Balance : 0.00000000 ETH\n",
      "Total Sent : 1182.369890368317705613 ETH\n",
      "Total Received : 1182.822862999310724613 ETH\n",
      "Total Fees : 0.452972630993019 ETH\n",
      "Date : 2018-05-26 08:25\n",
      "To : 0x10a502e011544c1e67a47d322f1692c039e71a94\n",
      "Amount : -0.39979249375 ETH\n",
      "------------------------------------\n",
      "https://www.blockchain.com/eth/address/0x10a502e011544c1e67a47d322f1692c039e71a94?view=standard\n",
      "Nonce : 6,186\n",
      "Number of Transactions : 13,512\n",
      "Final Balance : 0.00000000 ETH\n",
      "Total Sent : 6789.76154059326775457 ETH\n",
      "Total Received : 6791.538462684073543367 ETH\n",
      "Total Fees : 1.776922090805788797 ETH\n",
      "Date : 2018-07-15 10:04\n",
      "To : 0xab31f4ea9126903c67f664e753a1bc3a47bff94d\n",
      "Amount : -4.57240513 ETH\n",
      "------------------------------------\n",
      "https://www.blockchain.com/eth/address/0xab31f4ea9126903c67f664e753a1bc3a47bff94d?view=standard\n",
      "Nonce : 1\n",
      "Number of Transactions : 5\n",
      "Final Balance : 0.00000007 ETH\n",
      "Total Sent : 11.74323960 ETH\n",
      "Total Received : 11.74519267 ETH\n",
      "Total Fees : 0.00195300 ETH\n",
      "Date : 2018-07-15 18:46\n",
      "To : 0xa2865747b37f4502b67f2e89ec69e1d22c55c009\n",
      "Amount : -11.74323960 ETH\n",
      "------------------------------------\n",
      "0x3B5744c7F340E0d2Dcf7A072A4c963B9a43c982B\n",
      " -> \n",
      "0xa8bb6755d9c732ca4e35a5f22ae471c59b194a45\n",
      " -> \n",
      "0x10a502e011544c1e67a47d322f1692c039e71a94\n",
      " -> \n",
      "0xab31f4ea9126903c67f664e753a1bc3a47bff94d\n",
      " -> \n",
      "-------------------------------------\n"
     ]
    }
   ],
   "source": [
    "hw1()"
   ]
  },
  {
   "cell_type": "code",
   "execution_count": null,
   "metadata": {},
   "outputs": [],
   "source": []
  }
 ],
 "metadata": {
  "kernelspec": {
   "display_name": "Python 3",
   "language": "python",
   "name": "python3"
  },
  "language_info": {
   "codemirror_mode": {
    "name": "ipython",
    "version": 3
   },
   "file_extension": ".py",
   "mimetype": "text/x-python",
   "name": "python",
   "nbconvert_exporter": "python",
   "pygments_lexer": "ipython3",
   "version": "3.6.8"
  }
 },
 "nbformat": 4,
 "nbformat_minor": 4
}
